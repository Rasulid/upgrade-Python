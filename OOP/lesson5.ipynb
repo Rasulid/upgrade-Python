{
 "cells": [
  {
   "cell_type": "code",
   "execution_count": 11,
   "id": "initial_id",
   "metadata": {
    "collapsed": true,
    "ExecuteTime": {
     "end_time": "2023-10-12T08:39:37.317862290Z",
     "start_time": "2023-10-12T08:39:37.277005757Z"
    }
   },
   "outputs": [],
   "source": [
    "\"\"\"\n",
    "Наследования и понлимарфизм\n",
    "\"\"\"\n",
    "\n",
    "class Constructor:\n",
    "    def __init__(self):\n",
    "        print(\"Constructor created\")\n",
    "        \n",
    "    def draw(self):\n",
    "        print(\"Drawing\")\n",
    "    \n",
    "    def area(self):\n",
    "        print(\"Area\")\n",
    "        \n",
    "    def perimeter(self):\n",
    "        print(\"Perimeter\")\n",
    "        \n"
   ]
  },
  {
   "cell_type": "code",
   "execution_count": 12,
   "outputs": [
    {
     "name": "stdout",
     "output_type": "stream",
     "text": [
      "Constructor created\n",
      "Drawing\n"
     ]
    }
   ],
   "source": [
    "shape = Constructor()\n",
    "shape.draw()"
   ],
   "metadata": {
    "collapsed": false,
    "ExecuteTime": {
     "end_time": "2023-10-12T08:39:37.318730232Z",
     "start_time": "2023-10-12T08:39:37.317609010Z"
    }
   },
   "id": "a210ca7190133c1e"
  },
  {
   "cell_type": "code",
   "execution_count": 13,
   "outputs": [],
   "source": [
    "class Rectangle(Constructor):\n",
    "    def __init__(self, width, height):\n",
    "            \n",
    "        Constructor.__init__(self)\n",
    "        \n",
    "        self.width = width\n",
    "        self.height = height\n",
    "        \n",
    "        print(\"Rectangle created\")\n",
    "        \n",
    "    def draw(self):\n",
    "        print(\"Drawing Rectangle\")\n",
    "        \n",
    "    def area(self):\n",
    "        return self.width * self.height\n",
    "    \n",
    "    def perimeter(self):\n",
    "        return self.width * 2 + self.height * 2\n",
    "    \n",
    "    "
   ],
   "metadata": {
    "collapsed": false,
    "ExecuteTime": {
     "end_time": "2023-10-12T08:39:37.319443077Z",
     "start_time": "2023-10-12T08:39:37.318109286Z"
    }
   },
   "id": "66984f5691b27e47"
  },
  {
   "cell_type": "code",
   "execution_count": 14,
   "outputs": [
    {
     "name": "stdout",
     "output_type": "stream",
     "text": [
      "Constructor created\n",
      "Rectangle created\n",
      "Drawing Rectangle\n",
      "516\n",
      "110\n"
     ]
    }
   ],
   "source": [
    "rect = Rectangle(12,43)\n",
    "rect.draw()\n",
    "print(rect.area())\n",
    "print(rect.perimeter())"
   ],
   "metadata": {
    "collapsed": false,
    "ExecuteTime": {
     "end_time": "2023-10-12T08:39:37.319815631Z",
     "start_time": "2023-10-12T08:39:37.318328558Z"
    }
   },
   "id": "a56ea0ccde7100d9"
  }
 ],
 "metadata": {
  "kernelspec": {
   "display_name": "Python 3",
   "language": "python",
   "name": "python3"
  },
  "language_info": {
   "codemirror_mode": {
    "name": "ipython",
    "version": 2
   },
   "file_extension": ".py",
   "mimetype": "text/x-python",
   "name": "python",
   "nbconvert_exporter": "python",
   "pygments_lexer": "ipython2",
   "version": "2.7.6"
  }
 },
 "nbformat": 4,
 "nbformat_minor": 5
}
