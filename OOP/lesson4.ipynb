{
 "cells": [
  {
   "cell_type": "code",
   "execution_count": 24,
   "id": "initial_id",
   "metadata": {
    "collapsed": true,
    "ExecuteTime": {
     "end_time": "2023-10-12T08:39:32.549732988Z",
     "start_time": "2023-10-12T08:39:32.504743868Z"
    }
   },
   "outputs": [],
   "source": [
    "\"\"\"\n",
    "ClassMethod and StatisticMethods\n",
    "\"\"\"\n",
    "\n",
    "class Date:\n",
    "    def __init__(self, day, month, year):\n",
    "        self.day = day\n",
    "        self.month = month\n",
    "        self.year = year\n",
    "        \n",
    "    def display(self):\n",
    "        return f\"{self.day}_{self.month}_{self.year}\"\n",
    "    \n",
    "    @classmethod\n",
    "    def millenium_c(cls, month, day):\n",
    "        return cls(month, day, 2023)\n",
    "    \n",
    "    @staticmethod\n",
    "    def millenium_s(month, day):\n",
    "        return Date(month, day, 2023)\n",
    "        \n",
    "        "
   ]
  },
  {
   "cell_type": "code",
   "execution_count": 25,
   "outputs": [
    {
     "name": "stdout",
     "output_type": "stream",
     "text": [
      "11_30_2023\n",
      "11_30_2023\n"
     ]
    }
   ],
   "source": [
    "d1 = Date.millenium_c(11,30)\n",
    "d2 = Date.millenium_s(11,30)\n",
    "\n",
    "print(d1.display())\n",
    "print(d2.display())"
   ],
   "metadata": {
    "collapsed": false,
    "ExecuteTime": {
     "end_time": "2023-10-12T08:39:32.554059988Z",
     "start_time": "2023-10-12T08:39:32.549479638Z"
    }
   },
   "id": "635e9b9d8af7d18f"
  },
  {
   "cell_type": "code",
   "execution_count": 26,
   "outputs": [],
   "source": [
    "class DateTime(Date):\n",
    "    def display(self):\n",
    "                return f\"{self.day}_{self.month}_{self.year} 00:00PM\"\n"
   ],
   "metadata": {
    "collapsed": false,
    "ExecuteTime": {
     "end_time": "2023-10-12T08:39:32.554947901Z",
     "start_time": "2023-10-12T08:39:32.553518999Z"
    }
   },
   "id": "b3a56d9bfae99491"
  },
  {
   "cell_type": "code",
   "execution_count": 27,
   "outputs": [
    {
     "name": "stdout",
     "output_type": "stream",
     "text": [
      "12_4_1971 00:00PM\n",
      "12_4_2023 00:00PM\n",
      "True\n",
      "True\n",
      "12_4_1971 00:00PM\n",
      "12_4_2023\n",
      "True\n",
      "False\n"
     ]
    }
   ],
   "source": [
    "dt1 = DateTime(12,4,1971)\n",
    "dt2 = DateTime.millenium_c(12,4)\n",
    "\n",
    "print(dt1.display())\n",
    "print(dt2.display())\n",
    "\n",
    "print(isinstance(dt1, DateTime))\n",
    "print(isinstance(dt2, DateTime))\n",
    "\n",
    "\n",
    "dt1 = DateTime(12,4,1971)\n",
    "dt2 = DateTime.millenium_s(12,4)\n",
    "\n",
    "print(dt1.display())\n",
    "print(dt2.display())\n",
    "\n",
    "print(isinstance(dt1, DateTime))\n",
    "print(isinstance(dt2, DateTime))"
   ],
   "metadata": {
    "collapsed": false,
    "ExecuteTime": {
     "end_time": "2023-10-12T08:39:32.556321916Z",
     "start_time": "2023-10-12T08:39:32.553970952Z"
    }
   },
   "id": "a298e88a2222f9a0"
  }
 ],
 "metadata": {
  "kernelspec": {
   "display_name": "Python 3",
   "language": "python",
   "name": "python3"
  },
  "language_info": {
   "codemirror_mode": {
    "name": "ipython",
    "version": 2
   },
   "file_extension": ".py",
   "mimetype": "text/x-python",
   "name": "python",
   "nbconvert_exporter": "python",
   "pygments_lexer": "ipython2",
   "version": "2.7.6"
  }
 },
 "nbformat": 4,
 "nbformat_minor": 5
}
