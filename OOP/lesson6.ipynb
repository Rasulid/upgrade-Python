{
 "cells": [
  {
   "cell_type": "code",
   "execution_count": 82,
   "id": "initial_id",
   "metadata": {
    "collapsed": true,
    "ExecuteTime": {
     "end_time": "2023-10-12T09:15:58.577807160Z",
     "start_time": "2023-10-12T09:15:58.574986201Z"
    }
   },
   "outputs": [],
   "source": [
    "\"\"\"\n",
    "Множественное наследования MRO\n",
    "\"\"\"\n",
    "\n",
    "class Animal:\n",
    "    def __init__(self):\n",
    "        self.helth = 100\n",
    "    def hit(self, damege):\n",
    "        self.helth -= damege\n",
    "    \n",
    "    \n",
    "class Carnivore(Animal):\n",
    "    def __init__(self):\n",
    "        super().__init__()\n",
    "        self.legs = 4\n",
    "        "
   ]
  },
  {
   "cell_type": "code",
   "execution_count": 63,
   "outputs": [
    {
     "name": "stdout",
     "output_type": "stream",
     "text": [
      "90\n"
     ]
    }
   ],
   "source": [
    "c = Carnivore()\n",
    "c.hit(10)\n",
    "print(c.helth)"
   ],
   "metadata": {
    "collapsed": false,
    "ExecuteTime": {
     "end_time": "2023-10-12T09:15:45.798445675Z",
     "start_time": "2023-10-12T09:15:45.797569656Z"
    }
   },
   "id": "34085a34c19ce477"
  },
  {
   "cell_type": "code",
   "execution_count": 64,
   "outputs": [],
   "source": [
    "class Animal:\n",
    "    def set_helth(self):\n",
    "        print(\"set in Animal\")\n",
    "        \n",
    "class Carnivre(Animal):\n",
    "    def set_helth(self):\n",
    "        super().set_helth()\n",
    "        print(\"set in Carnivore\")\n",
    "\n",
    "class Memal(Animal):\n",
    "    def set_helth(self):\n",
    "        super().set_helth()\n",
    "        print(\"set in Memel\")\n",
    "    \n",
    "class Dog(Carnivore, Memal):\n",
    "    # pass\n",
    "    def set_helth(self):\n",
    "        super().set_helth()\n",
    "        print(\"set in Dog\")"
   ],
   "metadata": {
    "collapsed": false,
    "ExecuteTime": {
     "end_time": "2023-10-12T09:15:45.798597999Z",
     "start_time": "2023-10-12T09:15:45.797698303Z"
    }
   },
   "id": "b6b18c7a6210b0e0"
  },
  {
   "cell_type": "code",
   "execution_count": 81,
   "outputs": [
    {
     "name": "stdout",
     "output_type": "stream",
     "text": [
      "set in Animal\n",
      "set in Memel\n",
      "set in Dog\n"
     ]
    }
   ],
   "source": [
    "dog = Dog()\n",
    "dog.set_helth()\n"
   ],
   "metadata": {
    "collapsed": false,
    "ExecuteTime": {
     "end_time": "2023-10-12T09:15:55.959942261Z",
     "start_time": "2023-10-12T09:15:55.955904736Z"
    }
   },
   "id": "b934f1ecc46c45bb"
  }
 ],
 "metadata": {
  "kernelspec": {
   "display_name": "Python 3",
   "language": "python",
   "name": "python3"
  },
  "language_info": {
   "codemirror_mode": {
    "name": "ipython",
    "version": 2
   },
   "file_extension": ".py",
   "mimetype": "text/x-python",
   "name": "python",
   "nbconvert_exporter": "python",
   "pygments_lexer": "ipython2",
   "version": "2.7.6"
  }
 },
 "nbformat": 4,
 "nbformat_minor": 5
}
