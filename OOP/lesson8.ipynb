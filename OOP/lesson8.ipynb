{
 "cells": [
  {
   "cell_type": "code",
   "execution_count": 2,
   "id": "initial_id",
   "metadata": {
    "collapsed": true,
    "ExecuteTime": {
     "end_time": "2023-10-13T06:18:58.196965533Z",
     "start_time": "2023-10-13T06:18:58.191003869Z"
    }
   },
   "outputs": [],
   "source": [
    "from abc import ABC\n",
    "from abc import abstractmethod"
   ]
  },
  {
   "cell_type": "code",
   "execution_count": 3,
   "outputs": [],
   "source": [
    "class Shape(ABC):\n",
    "    \n",
    "    def __init__(self):\n",
    "        super().__init__()\n",
    "    \n",
    "    @abstractmethod\n",
    "    def draw(self):\n",
    "        pass\n",
    "    \n",
    "    @abstractmethod\n",
    "    def area(self):\n",
    "        pass\n",
    "    \n",
    "    @abstractmethod\n",
    "    def perimeter(self):\n",
    "        print(\"ABC perimeter\")\n",
    "    \n",
    "    \n",
    "    @abstractmethod\n",
    "    def drag(self):\n",
    "        print(\"Basic dragging functionality\")"
   ],
   "metadata": {
    "collapsed": false,
    "ExecuteTime": {
     "end_time": "2023-10-13T06:21:11.920365532Z",
     "start_time": "2023-10-13T06:21:11.879550932Z"
    }
   },
   "id": "2e31e32a09a8fe6b"
  },
  {
   "cell_type": "code",
   "execution_count": 17,
   "outputs": [],
   "source": [
    "import math\n",
    "class Triangle(Shape, ABC):\n",
    "    def __init__(self, a,b,c):\n",
    "        self.a = a\n",
    "        self.b = b\n",
    "        self.c = c\n",
    "        \n",
    "        super().__init__()\n",
    "    \n",
    "    def draw(self):\n",
    "        print(\"Drawing a triangle\")\n",
    "        \n",
    "    def area(self):\n",
    "        s = (self.a+self.b+self.c)/2\n",
    "        return math.sqrt(s*(s-self.a)*(s-self.b)*(s-self.c))\n",
    "    \n",
    "    def perimeter(self):\n",
    "        super().perimeter()\n",
    "        return self.a+self.b+self.c\n",
    "    \n",
    "    def drag(self):\n",
    "        super().drag()\n",
    "        print(\"Triangle dragging functionality\")\n",
    "        "
   ],
   "metadata": {
    "collapsed": false,
    "ExecuteTime": {
     "end_time": "2023-10-13T06:52:10.588527611Z",
     "start_time": "2023-10-13T06:52:10.540569007Z"
    }
   },
   "id": "667288f6a93890e5"
  },
  {
   "cell_type": "code",
   "execution_count": 22,
   "outputs": [
    {
     "name": "stdout",
     "output_type": "stream",
     "text": [
      "Basic gagging functionality\n",
      "Triangle dragging functionality\n",
      "None\n",
      "43.30127018922193\n",
      "30\n"
     ]
    }
   ],
   "source": [
    "t = Triangle(10,10,10)\n",
    "print(t.drag())\n",
    "print(t.area())\n",
    "print(t.perimeter())"
   ],
   "metadata": {
    "collapsed": false,
    "ExecuteTime": {
     "end_time": "2023-10-13T06:53:13.647825292Z",
     "start_time": "2023-10-13T06:53:13.644327023Z"
    }
   },
   "id": "b85c261536b88019"
  }
 ],
 "metadata": {
  "kernelspec": {
   "display_name": "Python 3",
   "language": "python",
   "name": "python3"
  },
  "language_info": {
   "codemirror_mode": {
    "name": "ipython",
    "version": 2
   },
   "file_extension": ".py",
   "mimetype": "text/x-python",
   "name": "python",
   "nbconvert_exporter": "python",
   "pygments_lexer": "ipython2",
   "version": "2.7.6"
  }
 },
 "nbformat": 4,
 "nbformat_minor": 5
}
