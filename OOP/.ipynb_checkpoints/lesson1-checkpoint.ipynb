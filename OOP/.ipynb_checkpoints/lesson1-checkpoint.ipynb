{
 "cells": [
  {
   "cell_type": "code",
   "execution_count": 1,
   "id": "initial_id",
   "metadata": {
    "collapsed": true,
    "ExecuteTime": {
     "end_time": "2023-10-13T04:52:53.269107830Z",
     "start_time": "2023-10-13T04:52:53.265000200Z"
    }
   },
   "outputs": [
    {
     "data": {
      "text/plain": "'Unit'"
     },
     "execution_count": 1,
     "metadata": {},
     "output_type": "execute_result"
    }
   ],
   "source": [
    "class Character:\n",
    "    def __init__(self, race: str, damage: int = 10, armour: int = 20):\n",
    "        self.race = race\n",
    "        self.damage = damage\n",
    "        self.armour = armour\n",
    "        \n",
    "unit = Character(\"Unit\")\n",
    "type(unit)\n",
    "\n",
    "# unit.armour\n",
    "# unit.damage\n",
    "unit.race"
   ]
  },
  {
   "cell_type": "code",
   "execution_count": null,
   "outputs": [],
   "source": [],
   "metadata": {
    "collapsed": false
   },
   "id": "f0a16b9ebf0661c8"
  }
 ],
 "metadata": {
  "kernelspec": {
   "display_name": "Python 3",
   "language": "python",
   "name": "python3"
  },
  "language_info": {
   "codemirror_mode": {
    "name": "ipython",
    "version": 2
   },
   "file_extension": ".py",
   "mimetype": "text/x-python",
   "name": "python",
   "nbconvert_exporter": "python",
   "pygments_lexer": "ipython2",
   "version": "2.7.6"
  }
 },
 "nbformat": 4,
 "nbformat_minor": 5
}
