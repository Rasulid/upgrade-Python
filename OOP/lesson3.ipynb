{
 "cells": [
  {
   "cell_type": "code",
   "execution_count": 1,
   "id": "initial_id",
   "metadata": {
    "collapsed": true,
    "ExecuteTime": {
     "end_time": "2023-10-11T09:48:23.204670105Z",
     "start_time": "2023-10-11T09:48:23.204276270Z"
    }
   },
   "outputs": [],
   "source": [
    "# Константы, Защищенные и приватные атрибуты, Свойства \n",
    "class Character:\n",
    "    MAX_SPEED = 100\n",
    "    \n",
    "    def __init__(self,race, damage = 10):\n",
    "        self.__race = race\n",
    "        self._health = 100\n",
    "        self.damage = damage\n",
    "        \n",
    "        self._current_speed = 20\n",
    "        \n",
    "    def hit(self, damage):\n",
    "        self._health -= damage\n",
    "        \n",
    "    @property  # ограничения для чтения \n",
    "    def health(self):\n",
    "        return self._health\n",
    "    \n",
    "    @property # это типо getter\n",
    "    def current_speed(self):\n",
    "        return self._current_speed\n",
    "    \n",
    "    @current_speed.setter # setter даёт приемушество для записи \n",
    "    def current_speed(self, current_speed):\n",
    "        if current_speed < 0:\n",
    "            self._current_speed = 0\n",
    "        elif current_speed > 100:\n",
    "            self._current_speed = 100\n",
    "        else:\n",
    "            self._current_speed = current_speed\n",
    "            \n",
    "        "
   ]
  }
 ],
 "metadata": {
  "kernelspec": {
   "display_name": "Python 3",
   "language": "python",
   "name": "python3"
  },
  "language_info": {
   "codemirror_mode": {
    "name": "ipython",
    "version": 2
   },
   "file_extension": ".py",
   "mimetype": "text/x-python",
   "name": "python",
   "nbconvert_exporter": "python",
   "pygments_lexer": "ipython2",
   "version": "2.7.6"
  }
 },
 "nbformat": 4,
 "nbformat_minor": 5
}
