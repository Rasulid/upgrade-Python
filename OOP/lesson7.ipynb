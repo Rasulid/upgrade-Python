{
 "cells": [
  {
   "cell_type": "code",
   "execution_count": 1,
   "id": "initial_id",
   "metadata": {
    "collapsed": true,
    "ExecuteTime": {
     "end_time": "2023-10-12T10:41:37.532505946Z",
     "start_time": "2023-10-12T10:41:37.531301044Z"
    }
   },
   "outputs": [
    {
     "name": "stdout",
     "output_type": "stream",
     "text": [
      "{\"name\": \"Alice\", \"age\": 30}\n"
     ]
    }
   ],
   "source": [
    "\"\"\"\n",
    "Миксины\n",
    "\"\"\"\n",
    "\n",
    "class JSONMixin:\n",
    "    def to_json(self):\n",
    "        import json\n",
    "        return json.dumps(self.__dict__)\n",
    "\n",
    "class Person:\n",
    "    def __init__(self, name, age):\n",
    "        self.name = name\n",
    "        self.age = age\n",
    "\n",
    "class JSONPerson(JSONMixin, Person):\n",
    "    pass\n",
    "\n",
    "person = JSONPerson(\"Alice\", 30)\n",
    "json_data = person.to_json()\n",
    "print(json_data)\n",
    "\n",
    "# В этом примере JSONMixin - это миксин, который добавляет функциональность для сериализации объектов в JSON-формат. \n",
    "# Класс JSONPerson наследует и от JSONMixin, и от Person, поэтому он имеет доступ к методу to_json, \n",
    "# добавленному миксином, и атрибутам name и age от класса Person\n",
    "\n",
    "# Миксины позволяют создавать модульные компоненты, которые можно повторно использовать в разных частях вашей программы, \n",
    "# что способствует улучшению читаемости кода и облегчает его сопровождение\n",
    " "
   ]
  }
 ],
 "metadata": {
  "kernelspec": {
   "display_name": "Python 3",
   "language": "python",
   "name": "python3"
  },
  "language_info": {
   "codemirror_mode": {
    "name": "ipython",
    "version": 2
   },
   "file_extension": ".py",
   "mimetype": "text/x-python",
   "name": "python",
   "nbconvert_exporter": "python",
   "pygments_lexer": "ipython2",
   "version": "2.7.6"
  }
 },
 "nbformat": 4,
 "nbformat_minor": 5
}
